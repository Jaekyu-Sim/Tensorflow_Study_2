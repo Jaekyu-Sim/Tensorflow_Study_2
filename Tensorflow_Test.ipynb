{
 "cells": [
  {
   "cell_type": "code",
   "execution_count": 1,
   "metadata": {
    "collapsed": false
   },
   "outputs": [
    {
     "name": "stdout",
     "output_type": "stream",
     "text": [
      "Extracting ./mnist/data/train-images-idx3-ubyte.gz\n",
      "Extracting ./mnist/data/train-labels-idx1-ubyte.gz\n",
      "Extracting ./mnist/data/t10k-images-idx3-ubyte.gz\n",
      "Extracting ./mnist/data/t10k-labels-idx1-ubyte.gz\n"
     ]
    }
   ],
   "source": [
    "import tensorflow as tf\n",
    "import numpy as np\n",
    "from tensorflow.examples.tutorials.mnist import input_data\n",
    "mnist = input_data.read_data_sets(\"./mnist/data/\", one_hot=True)\n"
   ]
  },
  {
   "cell_type": "code",
   "execution_count": 2,
   "metadata": {
    "collapsed": true
   },
   "outputs": [],
   "source": [
    "hidden_size = 128\n",
    "input_width = 28\n",
    "input_height = 28\n",
    "output_size = 10"
   ]
  },
  {
   "cell_type": "code",
   "execution_count": 3,
   "metadata": {
    "collapsed": true
   },
   "outputs": [],
   "source": [
    "tf.reset_default_graph()\n",
    "\n",
    "X = tf.placeholder(dtype=tf.float32, shape=[None, 28, 28], name=\"X\")\n",
    "Y = tf.placeholder(dtype=tf.float32, shape=[None, 10], name=\"Y\")\n",
    "\n",
    "W = tf.Variable(tf.random_normal(dtype=tf.float32, shape=[hidden_size, 10]), name=\"W\")\n",
    "b = tf.Variable(tf.zeros(shape=[10]), name=\"b\")\n",
    "cell = tf.contrib.rnn.BasicRNNCell(hidden_size)\n",
    "output, states = tf.nn.dynamic_rnn(cell, X, dtype=tf.float32)\n",
    "\n",
    "output = tf.transpose(a=output, perm=[1, 0, 2], name=\"output\")\n",
    "output = output[-1]\n",
    "\n",
    "model = tf.add(tf.matmul(output, W), b, name=\"model\")"
   ]
  },
  {
   "cell_type": "code",
   "execution_count": 4,
   "metadata": {
    "collapsed": true
   },
   "outputs": [],
   "source": [
    "#model.shape\n",
    "\n",
    "is_correct = tf.equal(tf.argmax(model, 1), tf.argmax(Y, 1))\n",
    "accuracy = tf.reduce_mean(tf.cast(is_correct, tf.float32))#cast ==> 소숫점 떼 주는 역할\n",
    "\n",
    "cost = tf.reduce_mean(tf.nn.softmax_cross_entropy_with_logits(labels=Y, logits=model), name=\"cost\")\n",
    "optimizer = tf.train.AdamOptimizer(learning_rate=0.001).minimize(cost)"
   ]
  },
  {
   "cell_type": "code",
   "execution_count": 5,
   "metadata": {
    "collapsed": false
   },
   "outputs": [
    {
     "name": "stdout",
     "output_type": "stream",
     "text": [
      "epoch :  1 cost :  0.527661050368439\n",
      "epoch :  2 cost :  0.2351197329502214\n",
      "epoch :  3 cost :  0.19016067160124128\n",
      "epoch :  4 cost :  0.16152295913208614\n",
      "epoch :  5 cost :  0.1458551808209582\n",
      "정확도: 0.9621\n"
     ]
    }
   ],
   "source": [
    "batch_size = 100\n",
    "total_batch = int(mnist.train.num_examples/batch_size)\n",
    "#원인모를 gpu 문제 때문에 첨가한 line ↓ 소스코드 영향 無\n",
    "gpu_options = tf.GPUOptions(per_process_gpu_memory_fraction=0.333)\n",
    "#config=tf.ConfigProto(gpu_options=gpu_options) 도 원인모를 gpu 문제때문에 첨가한 line ↓ 소스코드 영향 無\n",
    "with tf.Session(config=tf.ConfigProto(gpu_options=gpu_options)) as sess:\n",
    "    sess.run(tf.global_variables_initializer())\n",
    "    for epoch in range(5):\n",
    "        total_cost = 0\n",
    "\n",
    "        for i in range(total_batch):\n",
    "            x_batch, y_batch = mnist.train.next_batch(batch_size)\n",
    "            x_batch = x_batch.reshape(batch_size, 28, 28)\n",
    "            opt, cost_val = sess.run([optimizer, cost], feed_dict={X : x_batch, Y : y_batch})\n",
    "            total_cost = total_cost + cost_val\n",
    "\n",
    "        print(\"epoch : \", (epoch+1), \"cost : \", (total_cost / total_batch))\n",
    "        \n",
    "    \n",
    "    test_batch_size = len(mnist.test.images)\n",
    "    test_xs = mnist.test.images.reshape(test_batch_size, 28, 28)\n",
    "    test_ys = mnist.test.labels\n",
    "\n",
    "    print('정확도:', sess.run(accuracy,feed_dict={X: test_xs, Y: test_ys}))"
   ]
  },
  {
   "cell_type": "code",
   "execution_count": null,
   "metadata": {
    "collapsed": true
   },
   "outputs": [],
   "source": []
  },
  {
   "cell_type": "code",
   "execution_count": null,
   "metadata": {
    "collapsed": true
   },
   "outputs": [],
   "source": []
  }
 ],
 "metadata": {
  "anaconda-cloud": {},
  "kernelspec": {
   "display_name": "Python [conda root]",
   "language": "python",
   "name": "conda-root-py"
  },
  "language_info": {
   "codemirror_mode": {
    "name": "ipython",
    "version": 3
   },
   "file_extension": ".py",
   "mimetype": "text/x-python",
   "name": "python",
   "nbconvert_exporter": "python",
   "pygments_lexer": "ipython3",
   "version": "3.5.2"
  },
  "nbpresent": {
   "slides": {},
   "themes": {
    "default": "b56a01ef-a4ed-477f-887c-3c3a931a4a4c",
    "theme": {}
   }
  }
 },
 "nbformat": 4,
 "nbformat_minor": 1
}
