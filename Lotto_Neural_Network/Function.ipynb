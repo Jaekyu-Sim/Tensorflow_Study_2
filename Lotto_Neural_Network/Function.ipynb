{
 "cells": [
  {
   "cell_type": "code",
   "execution_count": 3,
   "metadata": {
    "collapsed": false
   },
   "outputs": [],
   "source": [
    "import tensorflow as tf\n",
    "import pandas as pd\n",
    "\n",
    "def read_csv(file_name):\n",
    "    Data = pd.read_csv('./CSV_Data_Folder/%s' %file_name, header=None)\n",
    "    return Data\n",
    "\n",
    "def csv_transpose(Data):\n",
    "    Buffer = pd.DataFrame.transpose(Data)\n",
    "    return Buffer\n",
    "\n",
    "def csv_transpose_save_to_file(Data):\n",
    "    Buffer = pd.DataFrame.transpose(Data)\n",
    "    Buffer.to_csv('Data_transpose.csv', header=None)\n",
    "\n",
    "def get_csv_frame(column, row):\n",
    "    return pd.DataFrame(columns=range(0, column), index=range(0, row))\n",
    "\n",
    "def xlsx_to_csv(file_name):\n",
    "    Data = pd.read_excel('./CSV_Data_Folder/%s' %file_name, header=None)\n",
    "    return Data.to_csv('./CSV_Data_Folder/CSV_Data.csv', header=None, index=None)"
   ]
  },
  {
   "cell_type": "code",
   "execution_count": null,
   "metadata": {
    "collapsed": true
   },
   "outputs": [],
   "source": []
  }
 ],
 "metadata": {
  "anaconda-cloud": {},
  "kernelspec": {
   "display_name": "Python [conda root]",
   "language": "python",
   "name": "conda-root-py"
  },
  "language_info": {
   "codemirror_mode": {
    "name": "ipython",
    "version": 3
   },
   "file_extension": ".py",
   "mimetype": "text/x-python",
   "name": "python",
   "nbconvert_exporter": "python",
   "pygments_lexer": "ipython3",
   "version": "3.5.2"
  }
 },
 "nbformat": 4,
 "nbformat_minor": 1
}
