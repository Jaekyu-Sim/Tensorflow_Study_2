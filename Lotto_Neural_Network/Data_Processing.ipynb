{
 "cells": [
  {
   "cell_type": "code",
   "execution_count": 15,
   "metadata": {
    "collapsed": true
   },
   "outputs": [],
   "source": [
    "#Data Processing\n",
    "import tensorflow as tf\n",
    "from Function import *\n",
    "import pandas as pd\n"
   ]
  },
  {
   "cell_type": "code",
   "execution_count": 16,
   "metadata": {
    "collapsed": false
   },
   "outputs": [],
   "source": [
    "#Data = pd.read_csv('./CSV_Data_Folder/Data.csv', header=None)\n",
    "#Data = read_csv('Data.csv')"
   ]
  },
  {
   "cell_type": "code",
   "execution_count": 27,
   "metadata": {
    "collapsed": false
   },
   "outputs": [],
   "source": [
    "#Data = pd.read_csv('./CSV_Data_Folder/Data.csv', header=None)\n",
    "Data = pd.read_excel('./CSV_Data_Folder/Data2.xlsx', header=None)\n",
    "Data = Data.transpose()\n",
    "Buff = get_csv_frame(column=796, row=7)\n",
    "for i in range(796):\n",
    "    Buff[i] = Data[795-i]"
   ]
  },
  {
   "cell_type": "code",
   "execution_count": 24,
   "metadata": {
    "collapsed": false
   },
   "outputs": [],
   "source": [
    "Data.to_csv('./CSV_Data_Folder/CSV_Data.csv', header=None, index=None)"
   ]
  },
  {
   "cell_type": "code",
   "execution_count": 28,
   "metadata": {
    "collapsed": true
   },
   "outputs": [],
   "source": [
    "Buff.to_csv('./CSV_Data_Folder/CSV_Data2.csv', header=None, index=None)"
   ]
  },
  {
   "cell_type": "code",
   "execution_count": null,
   "metadata": {
    "collapsed": true
   },
   "outputs": [],
   "source": []
  }
 ],
 "metadata": {
  "anaconda-cloud": {},
  "kernelspec": {
   "display_name": "Python [conda root]",
   "language": "python",
   "name": "conda-root-py"
  },
  "language_info": {
   "codemirror_mode": {
    "name": "ipython",
    "version": 3
   },
   "file_extension": ".py",
   "mimetype": "text/x-python",
   "name": "python",
   "nbconvert_exporter": "python",
   "pygments_lexer": "ipython3",
   "version": "3.5.2"
  }
 },
 "nbformat": 4,
 "nbformat_minor": 1
}
